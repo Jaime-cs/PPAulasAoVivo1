{
  "nbformat": 4,
  "nbformat_minor": 0,
  "metadata": {
    "colab": {
      "name": "jogoforcamain.py",
      "provenance": [],
      "collapsed_sections": [],
      "authorship_tag": "ABX9TyMfd7Z7OyFS6qvo4mYGu+qu",
      "include_colab_link": true
    },
    "kernelspec": {
      "name": "python3",
      "display_name": "Python 3"
    }
  },
  "cells": [
    {
      "cell_type": "markdown",
      "metadata": {
        "id": "view-in-github",
        "colab_type": "text"
      },
      "source": [
        "<a href=\"https://colab.research.google.com/github/Jaime-cs/PPAulasAoVivo1/blob/master/jogoforcamain_py.ipynb\" target=\"_parent\"><img src=\"https://colab.research.google.com/assets/colab-badge.svg\" alt=\"Open In Colab\"/></a>"
      ]
    },
    {
      "cell_type": "code",
      "metadata": {
        "id": "Scfi2U-AfD9f"
      },
      "source": [
        "from helpers import gerar_palavra_secreta, jogo\r\n",
        "\r\n",
        "if __name__ == '__main__':\r\n",
        "    palavra_secreta = gerar_palavra_secreta()\r\n",
        "\r\n",
        "    # For loop que imprima a palavra escondida com ******\r\n",
        "    print(\"\\n==== JOGO DA FORCA ====\")\r\n",
        "    print(\"\\nPalavra é: \")\r\n",
        "    for letra in palavra_secreta:\r\n",
        "        print(\"*\", end=\" \")\r\n",
        "\r\n",
        "    #Calculando o tamanho da palavra\r\n",
        "    tamanho_palavra = len(palavra_secreta)\r\n",
        "    print(f\"\\n - A palavra tem {tamanho_palavra} letras\")\r\n",
        "\r\n",
        "    jogo(palavra_secreta)\r\n",
        "\r\n"
      ],
      "execution_count": null,
      "outputs": []
    }
  ]
}